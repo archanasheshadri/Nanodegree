{
 "cells": [
  {
   "cell_type": "markdown",
   "metadata": {},
   "source": [
    "# Python Commands"
   ]
  },
  {
   "cell_type": "markdown",
   "metadata": {},
   "source": [
    "#### Read a file\n",
    "1) In Pandas\n",
    "\n",
    "import pandas as pd\n",
    "\n",
    "titanic_data = pd.read_csv('titanic-data.csv')\n",
    "\n",
    "2) Normal read\n",
    "\n",
    "file = open(“testfile.text”, “r”)\n",
    "\n",
    "print file.read() \n",
    "\n",
    "\n",
    "3) with statement(One bonus of using this method is that any files opened will be closed automatically after you are done. )\n",
    "\n",
    "with open(“testfile.txt”) as file:  \n",
    "\n",
    "data = file.read() \n",
    "\n",
    "#do something with data \n",
    "\n",
    "\n",
    "with open(“testfile.txt”) as f: \n",
    "\n",
    "for line in f: \n",
    "\n",
    "print line"
   ]
  },
  {
   "cell_type": "markdown",
   "metadata": {},
   "source": []
  }
 ],
 "metadata": {
  "kernelspec": {
   "display_name": "Python 2",
   "language": "python",
   "name": "python2"
  },
  "language_info": {
   "codemirror_mode": {
    "name": "ipython",
    "version": 2
   },
   "file_extension": ".py",
   "mimetype": "text/x-python",
   "name": "python",
   "nbconvert_exporter": "python",
   "pygments_lexer": "ipython2",
   "version": "2.7.13"
  }
 },
 "nbformat": 4,
 "nbformat_minor": 2
}
